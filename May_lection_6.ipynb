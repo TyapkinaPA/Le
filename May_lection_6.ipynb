{
  "nbformat": 4,
  "nbformat_minor": 0,
  "metadata": {
    "colab": {
      "provenance": [],
      "authorship_tag": "ABX9TyM5NFjPP+kMsimAHSDKWJbf",
      "include_colab_link": true
    },
    "kernelspec": {
      "name": "python3",
      "display_name": "Python 3"
    },
    "language_info": {
      "name": "python"
    }
  },
  "cells": [
    {
      "cell_type": "markdown",
      "metadata": {
        "id": "view-in-github",
        "colab_type": "text"
      },
      "source": [
        "<a href=\"https://colab.research.google.com/github/TyapkinaPA/Lections-in-para/blob/main/May_lection_6.ipynb\" target=\"_parent\"><img src=\"https://colab.research.google.com/assets/colab-badge.svg\" alt=\"Open In Colab\"/></a>"
      ]
    },
    {
      "cell_type": "markdown",
      "source": [
        "# Декораторы-2\n",
        "### Декоратор - объект, к-й расширяет возможности функции.\n",
        "* принимает функцию как аргумент\n",
        "* объявляет новую функцию, которая расширяет функцию-аргумент\n",
        "* возвращает новую функцию в качестве объекта\n"
      ],
      "metadata": {
        "id": "qpDZjYsj19U3"
      }
    },
    {
      "cell_type": "code",
      "execution_count": null,
      "metadata": {
        "id": "7yG50FKk1oG0"
      },
      "outputs": [],
      "source": [
        "class Cat:\n",
        "  def __init__(self):\n",
        "    self.hungry = True\n",
        "  def eat(self):\n",
        "    if self.hungry:\n",
        "      print('I am hungry...')\n",
        "      self.hugry = False\n",
        "    else:\n",
        "      print('No, thanks!')   "
      ]
    },
    {
      "cell_type": "code",
      "source": [
        "class Barsik(Cat):\n",
        "  def __init__(self):\n",
        "    Cat.__init__(self)    # без данной строки на barsik.eat() - будет вылезать ошибка\n",
        "    self.sound = 'Aaaammm!'\n",
        "    print(self.sound)"
      ],
      "metadata": {
        "id": "ALNrOFKZ_rnk"
      },
      "execution_count": null,
      "outputs": []
    },
    {
      "cell_type": "code",
      "source": [
        "barsik = Barsik()"
      ],
      "metadata": {
        "colab": {
          "base_uri": "https://localhost:8080/"
        },
        "id": "C_Rm5D-fAAm8",
        "outputId": "681fbb27-034c-439f-e34e-ba33e14a0e53"
      },
      "execution_count": null,
      "outputs": [
        {
          "output_type": "stream",
          "name": "stdout",
          "text": [
            "Aaaammm!\n"
          ]
        }
      ]
    },
    {
      "cell_type": "code",
      "source": [
        "barsik.eat()"
      ],
      "metadata": {
        "colab": {
          "base_uri": "https://localhost:8080/"
        },
        "id": "BZjL790rAFfi",
        "outputId": "07c26902-66ab-4d05-bc3a-356d29a18b40"
      },
      "execution_count": null,
      "outputs": [
        {
          "output_type": "stream",
          "name": "stdout",
          "text": [
            "I am hungry...\n"
          ]
        }
      ]
    },
    {
      "cell_type": "code",
      "source": [
        "__metaclass__ = type\n",
        "\n",
        "class Barsik(Cat):\n",
        "  def __init__(self):\n",
        "    super(Barsik, self).__init__()\n",
        "    self.sound = 'Aaaammm!'\n",
        "    print(self.sound)"
      ],
      "metadata": {
        "id": "PFM-0wZgAm_F"
      },
      "execution_count": null,
      "outputs": []
    },
    {
      "cell_type": "code",
      "source": [
        "brs = Barsik()\n",
        "brs.eat()\n"
      ],
      "metadata": {
        "colab": {
          "base_uri": "https://localhost:8080/"
        },
        "id": "9rIxUX2MBEVJ",
        "outputId": "194fb13c-7d0e-4dd7-a67f-6a973fd29103"
      },
      "execution_count": null,
      "outputs": [
        {
          "output_type": "stream",
          "name": "stdout",
          "text": [
            "Aaaammm!\n",
            "I am hungry...\n"
          ]
        }
      ]
    },
    {
      "cell_type": "code",
      "source": [
        "class Spam:\n",
        "  numInstances = 0\n",
        "  def __init__(self):\n",
        "    Spam.numInstances = Spam.numInstances + 1\n",
        "\n",
        "def printNumInstances():\n",
        "  print('Number of instances created: ', Spam.numInstances)"
      ],
      "metadata": {
        "id": "aE10CH7fBZMF"
      },
      "execution_count": null,
      "outputs": []
    },
    {
      "cell_type": "code",
      "source": [
        "a = Spam()\n",
        "b = Spam()\n",
        "printNumInstances()"
      ],
      "metadata": {
        "colab": {
          "base_uri": "https://localhost:8080/"
        },
        "id": "EI3lAWbZB6xf",
        "outputId": "b56e19d2-e74d-47b8-f65d-f9f13f9b72ad"
      },
      "execution_count": null,
      "outputs": [
        {
          "output_type": "stream",
          "name": "stdout",
          "text": [
            "Number of instances created:  2\n"
          ]
        }
      ]
    },
    {
      "cell_type": "code",
      "source": [
        "class Multi:\n",
        "  def imeth(self, x):\n",
        "    print(self, x)\n",
        "  def smeth(x):\n",
        "    print(x)\n",
        "  def cmeth(cls, x):\n",
        "    print(cls, x)\n",
        "  smeth = staticmethod(smeth)\n",
        "  cmeth = classmethod(cmeth)"
      ],
      "metadata": {
        "id": "khvkhT1MCD7N"
      },
      "execution_count": null,
      "outputs": []
    },
    {
      "cell_type": "code",
      "source": [
        "Multi.smeth(3)"
      ],
      "metadata": {
        "colab": {
          "base_uri": "https://localhost:8080/"
        },
        "id": "xn14URg8Cj5z",
        "outputId": "d806d4f9-12f7-4a5f-fb58-de4b25efce23"
      },
      "execution_count": null,
      "outputs": [
        {
          "output_type": "stream",
          "name": "stdout",
          "text": [
            "3\n"
          ]
        }
      ]
    },
    {
      "cell_type": "code",
      "source": [
        "obj = Multi()\n",
        "obj.smeth(5)"
      ],
      "metadata": {
        "colab": {
          "base_uri": "https://localhost:8080/"
        },
        "id": "UbjrcOrjCnD2",
        "outputId": "b74c39d5-42c9-4252-a252-0004e7e864b0"
      },
      "execution_count": null,
      "outputs": [
        {
          "output_type": "stream",
          "name": "stdout",
          "text": [
            "5\n"
          ]
        }
      ]
    },
    {
      "cell_type": "code",
      "source": [
        "Multi.cmeth(7)"
      ],
      "metadata": {
        "colab": {
          "base_uri": "https://localhost:8080/"
        },
        "id": "kxvYtNUDCw11",
        "outputId": "d423cc4d-00bc-48b6-da57-b45cd38a2b62"
      },
      "execution_count": null,
      "outputs": [
        {
          "output_type": "stream",
          "name": "stdout",
          "text": [
            "<class '__main__.Multi'> 7\n"
          ]
        }
      ]
    },
    {
      "cell_type": "code",
      "source": [
        "obj.cmeth(10)"
      ],
      "metadata": {
        "colab": {
          "base_uri": "https://localhost:8080/"
        },
        "id": "tVy049yKC0Dk",
        "outputId": "8632701a-2426-4864-d32c-6ac30cf1d5fb"
      },
      "execution_count": null,
      "outputs": [
        {
          "output_type": "stream",
          "name": "stdout",
          "text": [
            "<class '__main__.Multi'> 10\n"
          ]
        }
      ]
    },
    {
      "cell_type": "code",
      "source": [
        "class Reverse:\n",
        "  def __init__(self, data):\n",
        "    self.data = data\n",
        "    self.index = len(data)\n",
        "  def __iter__(self):\n",
        "    return self\n",
        "  def next(self):\n",
        "    if self.index == 0:\n",
        "      raise StopIteration\n",
        "    self.index =self.index - 1\n",
        "    return self.data[self.index]\n"
      ],
      "metadata": {
        "id": "xY0GSx2oC6uc"
      },
      "execution_count": null,
      "outputs": []
    },
    {
      "cell_type": "code",
      "source": [
        "for char in Reverse('12345'):\n",
        "  print(char)"
      ],
      "metadata": {
        "id": "RbqJX_gsDvfL"
      },
      "execution_count": null,
      "outputs": []
    },
    {
      "cell_type": "code",
      "source": [
        "rvr = list(Reverse('12345'))\n",
        "rvr"
      ],
      "metadata": {
        "id": "BRyidsTXEXNB"
      },
      "execution_count": null,
      "outputs": []
    },
    {
      "cell_type": "code",
      "source": [
        "class DateOffest:\n",
        "  def __init__(self):\n",
        "    self.start = 0\n",
        "  def _get_offest(self):\n",
        "    self.start +=5\n",
        "    return self.start\n",
        "  offest = property(_get_offest)"
      ],
      "metadata": {
        "id": "wpCiIsjhD2Nr"
      },
      "execution_count": null,
      "outputs": []
    },
    {
      "cell_type": "code",
      "source": [
        "d = DateOffest()\n",
        "d.offest"
      ],
      "metadata": {
        "colab": {
          "base_uri": "https://localhost:8080/"
        },
        "id": "lJllCK46Deom",
        "outputId": "de9ca4b2-f6bd-45bd-8bdd-6e5ea01b237d"
      },
      "execution_count": null,
      "outputs": [
        {
          "output_type": "execute_result",
          "data": {
            "text/plain": [
              "5"
            ]
          },
          "metadata": {},
          "execution_count": 40
        }
      ]
    },
    {
      "cell_type": "code",
      "source": [
        "class Singleton(object):\n",
        "  def __new__(cls, *args, **kw):\n",
        "    if not hasattr(cls, '_instance'):\n",
        "      orig = super(Singleton, cls)\n",
        "      cls._instance = orig.__new__(cls, *args, **kw)\n",
        "    return cls._instance"
      ],
      "metadata": {
        "id": "rkGi8e0uE7Aw"
      },
      "execution_count": null,
      "outputs": []
    },
    {
      "cell_type": "code",
      "source": [
        "one = Singleton()\n",
        "two = Singleton()"
      ],
      "metadata": {
        "id": "37H2So4GFg87"
      },
      "execution_count": null,
      "outputs": []
    },
    {
      "cell_type": "code",
      "source": [
        "id(one)"
      ],
      "metadata": {
        "colab": {
          "base_uri": "https://localhost:8080/"
        },
        "id": "nqX247T9Ft-W",
        "outputId": "60fdc14c-bfa6-4184-8b65-733ad6ac53b4"
      },
      "execution_count": null,
      "outputs": [
        {
          "output_type": "execute_result",
          "data": {
            "text/plain": [
              "139983378215504"
            ]
          },
          "metadata": {},
          "execution_count": 46
        }
      ]
    },
    {
      "cell_type": "code",
      "source": [
        "id(two)"
      ],
      "metadata": {
        "colab": {
          "base_uri": "https://localhost:8080/"
        },
        "id": "wWP2wyJMFsnI",
        "outputId": "5fb96c64-43f2-44f2-abe0-a36cffb7a83a"
      },
      "execution_count": null,
      "outputs": [
        {
          "output_type": "execute_result",
          "data": {
            "text/plain": [
              "139983378215504"
            ]
          },
          "metadata": {},
          "execution_count": 47
        }
      ]
    },
    {
      "cell_type": "code",
      "source": [
        "class Limiter(object):\n",
        "  __slots__ = ['age', 'name', 'job']"
      ],
      "metadata": {
        "id": "mmUClTtrF2Pw"
      },
      "execution_count": null,
      "outputs": []
    },
    {
      "cell_type": "code",
      "source": [
        "x = Limiter()"
      ],
      "metadata": {
        "id": "dHwsx6zeGCJb"
      },
      "execution_count": null,
      "outputs": []
    },
    {
      "cell_type": "code",
      "source": [
        "x.age = 20"
      ],
      "metadata": {
        "id": "ahtnUBUKGEvW"
      },
      "execution_count": null,
      "outputs": []
    },
    {
      "cell_type": "code",
      "source": [
        "class SortKey:\n",
        "  def __int__(self, *attribute_names):\n",
        "    self.attribute_names = attribute_names\n",
        "  def __call__(self, instance):\n",
        "    values = []\n",
        "    for attribute_name in self.attribute_names:\n",
        "      values.append(getattr(instance, attribute_name))\n",
        "    return values"
      ],
      "metadata": {
        "id": "w_CBq5OeGIVU"
      },
      "execution_count": null,
      "outputs": []
    },
    {
      "cell_type": "code",
      "source": [
        "class Person:\n",
        "  def __init__(self, forename, surname, email):\n",
        "    self.forename = forename\n",
        "    self.surname = surname\n",
        "    self.email = email"
      ],
      "metadata": {
        "id": "1qaban6dGw-E"
      },
      "execution_count": null,
      "outputs": []
    },
    {
      "cell_type": "code",
      "source": [
        "people = []\n",
        "p = Person('Petrov', '', '')\n",
        "people.append(p)\n",
        "p = Person('Sidorov', '', '')\n",
        "people.append(p)\n",
        "p = Person(u'Ivanov', '', '')\n",
        "people.append(p)\n",
        "for p in people:\n",
        "  print(p.forename)"
      ],
      "metadata": {
        "colab": {
          "base_uri": "https://localhost:8080/"
        },
        "id": "TnAstFlZHDH4",
        "outputId": "fe110eb3-9f50-45f0-bcb9-cd42502004da"
      },
      "execution_count": null,
      "outputs": [
        {
          "output_type": "stream",
          "name": "stdout",
          "text": [
            "Petrov\n",
            "Sidorov\n",
            "Ivanov\n"
          ]
        }
      ]
    },
    {
      "cell_type": "code",
      "source": [
        "people.sort(key=SortKey(\"forename\"))\n",
        "for p in people:\n",
        "  print(p.forename)"
      ],
      "metadata": {
        "id": "mQW3atvdHr5y"
      },
      "execution_count": null,
      "outputs": []
    },
    {
      "cell_type": "code",
      "source": [
        "class ExternalStorange:\n",
        "  __slots__ = ('attribute_name')\n",
        "  __storage = {}\n",
        "  def __init__(self, attribute_name):\n",
        "    self.attribute_name = attribute_name\n",
        "  def __set__(self, instance, value):\n",
        "    self.__storage[id(instance), self.attribute_name] = value\n",
        "  def __get__(self, instance, owner=None):\n",
        "    if instance is None:\n",
        "      return self\n",
        "    return self.__storage[id(instance), self.attribute_name]"
      ],
      "metadata": {
        "id": "HuZqqNrOIJDZ"
      },
      "execution_count": null,
      "outputs": []
    },
    {
      "cell_type": "code",
      "source": [
        "class Point:\n",
        "  __slots__ = ()\n",
        "  x = ExternalStorange('x')\n",
        "  y = ExternalStorange('y')\n",
        "  def __init__(self, x=0, y=0):\n",
        "    self.x = x\n",
        "    self.y = y"
      ],
      "metadata": {
        "id": "sf053T_FJRnL"
      },
      "execution_count": null,
      "outputs": []
    },
    {
      "cell_type": "code",
      "source": [
        "p1 = Point(1, 2)"
      ],
      "metadata": {
        "id": "W7azzyV8JoBM"
      },
      "execution_count": null,
      "outputs": []
    },
    {
      "cell_type": "code",
      "source": [
        "p2 = Point(3, 4)"
      ],
      "metadata": {
        "id": "KX-ZYRC4JrIs"
      },
      "execution_count": null,
      "outputs": []
    },
    {
      "cell_type": "code",
      "source": [
        "class MySequence:\n",
        "  def __init__(self, start=0, step=1):\n",
        "    self.start = start\n",
        "    self.step = step\n",
        "    self.changed = {}\n",
        "  def __getitem__(self, key):\n",
        "    return self.start + key*self.step\n",
        "  def __setitem__(self, key, value):\n",
        "    self.changed[key] = value"
      ],
      "metadata": {
        "id": "gRJqNOSrJuIo"
      },
      "execution_count": null,
      "outputs": []
    },
    {
      "cell_type": "code",
      "source": [
        "s = MySequence(1, 2)\n",
        "s[0]"
      ],
      "metadata": {
        "colab": {
          "base_uri": "https://localhost:8080/"
        },
        "id": "FoKJOEbYKbt6",
        "outputId": "89fd07c6-578d-49bd-9a49-e3ddd0401f7a"
      },
      "execution_count": null,
      "outputs": [
        {
          "output_type": "execute_result",
          "data": {
            "text/plain": [
              "1"
            ]
          },
          "metadata": {},
          "execution_count": 65
        }
      ]
    },
    {
      "cell_type": "code",
      "source": [
        "s[1]"
      ],
      "metadata": {
        "id": "SK6lJx7SKhXt",
        "outputId": "0bc56783-8a75-44fb-d47b-e950e064a563",
        "colab": {
          "base_uri": "https://localhost:8080/"
        }
      },
      "execution_count": null,
      "outputs": [
        {
          "output_type": "execute_result",
          "data": {
            "text/plain": [
              "3"
            ]
          },
          "metadata": {},
          "execution_count": 67
        }
      ]
    },
    {
      "cell_type": "code",
      "source": [
        "s[100]"
      ],
      "metadata": {
        "id": "pALO05tiKioc",
        "outputId": "849d241c-4945-400d-f890-afbeba821422",
        "colab": {
          "base_uri": "https://localhost:8080/"
        }
      },
      "execution_count": null,
      "outputs": [
        {
          "output_type": "execute_result",
          "data": {
            "text/plain": [
              "201"
            ]
          },
          "metadata": {},
          "execution_count": 68
        }
      ]
    }
  ]
}