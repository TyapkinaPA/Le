{
  "nbformat": 4,
  "nbformat_minor": 0,
  "metadata": {
    "colab": {
      "provenance": [],
      "authorship_tag": "ABX9TyOri+WgfGy2BnQ7Qf4IUzeo",
      "include_colab_link": true
    },
    "kernelspec": {
      "name": "python3",
      "display_name": "Python 3"
    },
    "language_info": {
      "name": "python"
    }
  },
  "cells": [
    {
      "cell_type": "markdown",
      "metadata": {
        "id": "view-in-github",
        "colab_type": "text"
      },
      "source": [
        "<a href=\"https://colab.research.google.com/github/TyapkinaPA/Lections-in-para/blob/main/May_lection_6.ipynb\" target=\"_parent\"><img src=\"https://colab.research.google.com/assets/colab-badge.svg\" alt=\"Open In Colab\"/></a>"
      ]
    },
    {
      "cell_type": "markdown",
      "source": [
        "# Декораторы-2\n",
        "### Декоратор - объект, к-й расширяет возможности функции.\n",
        "* принимает функцию как аргумент\n",
        "* объявляет новую функцию, которая расширяет функцию-аргумент\n",
        "* возвращает новую функцию в качестве объекта\n"
      ],
      "metadata": {
        "id": "qpDZjYsj19U3"
      }
    },
    {
      "cell_type": "code",
      "execution_count": null,
      "metadata": {
        "id": "7yG50FKk1oG0"
      },
      "outputs": [],
      "source": [
        "class Cat:\n",
        "  def __init__(self):\n",
        "    self.hungry = True\n",
        "  def eat(self):\n",
        "    if self.hungry:\n",
        "      print('I am hungry...')\n",
        "      self.hugry = False\n",
        "    else:\n",
        "      print('No, thanks!')   "
      ]
    },
    {
      "cell_type": "code",
      "source": [
        "class Barsik(Cat):\n",
        "  def __init__(self):\n",
        "    Cat.__init__(self)    # без данной строки на barsik.eat() - будет вылезать ошибка\n",
        "    self.sound = 'Aaaammm!'\n",
        "    print(self.sound)"
      ],
      "metadata": {
        "id": "ALNrOFKZ_rnk"
      },
      "execution_count": null,
      "outputs": []
    },
    {
      "cell_type": "code",
      "source": [
        "barsik = Barsik()"
      ],
      "metadata": {
        "colab": {
          "base_uri": "https://localhost:8080/"
        },
        "id": "C_Rm5D-fAAm8",
        "outputId": "681fbb27-034c-439f-e34e-ba33e14a0e53"
      },
      "execution_count": null,
      "outputs": [
        {
          "output_type": "stream",
          "name": "stdout",
          "text": [
            "Aaaammm!\n"
          ]
        }
      ]
    },
    {
      "cell_type": "code",
      "source": [
        "barsik.eat()"
      ],
      "metadata": {
        "colab": {
          "base_uri": "https://localhost:8080/"
        },
        "id": "BZjL790rAFfi",
        "outputId": "07c26902-66ab-4d05-bc3a-356d29a18b40"
      },
      "execution_count": null,
      "outputs": [
        {
          "output_type": "stream",
          "name": "stdout",
          "text": [
            "I am hungry...\n"
          ]
        }
      ]
    },
    {
      "cell_type": "code",
      "source": [
        "__metaclass__ = type\n",
        "\n",
        "class Barsik(Cat):\n",
        "  def __init__(self):\n",
        "    super(Barsik, self).__init__()\n",
        "    self.sound = 'Aaaammm!'\n",
        "    print(self.sound)"
      ],
      "metadata": {
        "id": "PFM-0wZgAm_F"
      },
      "execution_count": null,
      "outputs": []
    },
    {
      "cell_type": "code",
      "source": [
        "brs = Barsik()\n",
        "brs.eat()\n"
      ],
      "metadata": {
        "colab": {
          "base_uri": "https://localhost:8080/"
        },
        "id": "9rIxUX2MBEVJ",
        "outputId": "194fb13c-7d0e-4dd7-a67f-6a973fd29103"
      },
      "execution_count": null,
      "outputs": [
        {
          "output_type": "stream",
          "name": "stdout",
          "text": [
            "Aaaammm!\n",
            "I am hungry...\n"
          ]
        }
      ]
    },
    {
      "cell_type": "code",
      "source": [
        "class Spam:\n",
        "  numInstances = 0\n",
        "  def __init__(self):\n",
        "    Spam.numInstances = Spam.numInstances + 1\n",
        "\n",
        "def printNumInstances():\n",
        "  print('Number of instances created: ', Spam.numInstances)"
      ],
      "metadata": {
        "id": "aE10CH7fBZMF"
      },
      "execution_count": null,
      "outputs": []
    },
    {
      "cell_type": "code",
      "source": [
        "a = Spam()\n",
        "b = Spam()\n",
        "printNumInstances()"
      ],
      "metadata": {
        "colab": {
          "base_uri": "https://localhost:8080/"
        },
        "id": "EI3lAWbZB6xf",
        "outputId": "b56e19d2-e74d-47b8-f65d-f9f13f9b72ad"
      },
      "execution_count": null,
      "outputs": [
        {
          "output_type": "stream",
          "name": "stdout",
          "text": [
            "Number of instances created:  2\n"
          ]
        }
      ]
    },
    {
      "cell_type": "code",
      "source": [
        "class Multi:\n",
        "  def imeth(self, x):\n",
        "    print(self, x)\n",
        "  def smeth(x):\n",
        "    print(x)\n",
        "  def cmeth(cls, x):\n",
        "    print(cls, x)\n",
        "  smeth = staticmethod(smeth)\n",
        "  cmeth = classmethod(cmeth)"
      ],
      "metadata": {
        "id": "khvkhT1MCD7N"
      },
      "execution_count": null,
      "outputs": []
    },
    {
      "cell_type": "code",
      "source": [
        "Multi.smeth(3)"
      ],
      "metadata": {
        "colab": {
          "base_uri": "https://localhost:8080/"
        },
        "id": "xn14URg8Cj5z",
        "outputId": "d806d4f9-12f7-4a5f-fb58-de4b25efce23"
      },
      "execution_count": null,
      "outputs": [
        {
          "output_type": "stream",
          "name": "stdout",
          "text": [
            "3\n"
          ]
        }
      ]
    },
    {
      "cell_type": "code",
      "source": [
        "obj = Multi()\n",
        "obj.smeth(5)"
      ],
      "metadata": {
        "colab": {
          "base_uri": "https://localhost:8080/"
        },
        "id": "UbjrcOrjCnD2",
        "outputId": "b74c39d5-42c9-4252-a252-0004e7e864b0"
      },
      "execution_count": null,
      "outputs": [
        {
          "output_type": "stream",
          "name": "stdout",
          "text": [
            "5\n"
          ]
        }
      ]
    },
    {
      "cell_type": "code",
      "source": [
        "Multi.cmeth(7)"
      ],
      "metadata": {
        "colab": {
          "base_uri": "https://localhost:8080/"
        },
        "id": "kxvYtNUDCw11",
        "outputId": "d423cc4d-00bc-48b6-da57-b45cd38a2b62"
      },
      "execution_count": null,
      "outputs": [
        {
          "output_type": "stream",
          "name": "stdout",
          "text": [
            "<class '__main__.Multi'> 7\n"
          ]
        }
      ]
    },
    {
      "cell_type": "code",
      "source": [
        "obj.cmeth(10)"
      ],
      "metadata": {
        "colab": {
          "base_uri": "https://localhost:8080/"
        },
        "id": "tVy049yKC0Dk",
        "outputId": "8632701a-2426-4864-d32c-6ac30cf1d5fb"
      },
      "execution_count": null,
      "outputs": [
        {
          "output_type": "stream",
          "name": "stdout",
          "text": [
            "<class '__main__.Multi'> 10\n"
          ]
        }
      ]
    },
    {
      "cell_type": "code",
      "source": [
        "class Reverse:\n",
        "  def __init__(self, data):\n",
        "    self.data = data\n",
        "    self.index = len(data)\n",
        "  def __iter__(self):\n",
        "    return self\n",
        "  def next(self):\n",
        "    if self.index == 0:\n",
        "      raise StopIteration\n",
        "    self.index =self.index - 1\n",
        "    return self.data[self.index]\n"
      ],
      "metadata": {
        "id": "xY0GSx2oC6uc"
      },
      "execution_count": null,
      "outputs": []
    },
    {
      "cell_type": "code",
      "source": [
        "for char in Reverse('12345'):\n",
        "  print(char)"
      ],
      "metadata": {
        "id": "RbqJX_gsDvfL"
      },
      "execution_count": null,
      "outputs": []
    },
    {
      "cell_type": "code",
      "source": [
        "rvr = list(Reverse('12345'))\n",
        "rvr"
      ],
      "metadata": {
        "id": "BRyidsTXEXNB"
      },
      "execution_count": null,
      "outputs": []
    },
    {
      "cell_type": "code",
      "source": [
        "class DateOffest:\n",
        "  def __init__(self):\n",
        "    self.start = 0\n",
        "  def _get_offest(self):\n",
        "    self.start +=5\n",
        "    return self.start\n",
        "  offest = property(_get_offest)"
      ],
      "metadata": {
        "id": "wpCiIsjhD2Nr"
      },
      "execution_count": null,
      "outputs": []
    },
    {
      "cell_type": "code",
      "source": [
        "d = DateOffest()\n",
        "d.offest"
      ],
      "metadata": {
        "colab": {
          "base_uri": "https://localhost:8080/"
        },
        "id": "lJllCK46Deom",
        "outputId": "de9ca4b2-f6bd-45bd-8bdd-6e5ea01b237d"
      },
      "execution_count": null,
      "outputs": [
        {
          "output_type": "execute_result",
          "data": {
            "text/plain": [
              "5"
            ]
          },
          "metadata": {},
          "execution_count": 40
        }
      ]
    },
    {
      "cell_type": "code",
      "source": [
        "class Singleton(object):\n",
        "  def __new__(cls, *args, **kw):\n",
        "    if not hasattr(cls, '_instance'):\n",
        "      orig = super(Singleton, cls)\n",
        "      cls._instance = orig.__new__(cls, *args, **kw)\n",
        "    return cls._instance"
      ],
      "metadata": {
        "id": "rkGi8e0uE7Aw"
      },
      "execution_count": null,
      "outputs": []
    },
    {
      "cell_type": "code",
      "source": [
        "one = Singleton()\n",
        "two = Singleton()"
      ],
      "metadata": {
        "id": "37H2So4GFg87"
      },
      "execution_count": null,
      "outputs": []
    },
    {
      "cell_type": "code",
      "source": [
        "id(one)"
      ],
      "metadata": {
        "colab": {
          "base_uri": "https://localhost:8080/"
        },
        "id": "nqX247T9Ft-W",
        "outputId": "60fdc14c-bfa6-4184-8b65-733ad6ac53b4"
      },
      "execution_count": null,
      "outputs": [
        {
          "output_type": "execute_result",
          "data": {
            "text/plain": [
              "139983378215504"
            ]
          },
          "metadata": {},
          "execution_count": 46
        }
      ]
    },
    {
      "cell_type": "code",
      "source": [
        "id(two)"
      ],
      "metadata": {
        "colab": {
          "base_uri": "https://localhost:8080/"
        },
        "id": "wWP2wyJMFsnI",
        "outputId": "5fb96c64-43f2-44f2-abe0-a36cffb7a83a"
      },
      "execution_count": null,
      "outputs": [
        {
          "output_type": "execute_result",
          "data": {
            "text/plain": [
              "139983378215504"
            ]
          },
          "metadata": {},
          "execution_count": 47
        }
      ]
    },
    {
      "cell_type": "code",
      "source": [
        "class Limiter(object):\n",
        "  __slots__ = ['age', 'name', 'job']"
      ],
      "metadata": {
        "id": "mmUClTtrF2Pw"
      },
      "execution_count": null,
      "outputs": []
    },
    {
      "cell_type": "code",
      "source": [
        "x = Limiter()"
      ],
      "metadata": {
        "id": "dHwsx6zeGCJb"
      },
      "execution_count": null,
      "outputs": []
    },
    {
      "cell_type": "code",
      "source": [
        "x.age = 20"
      ],
      "metadata": {
        "id": "ahtnUBUKGEvW"
      },
      "execution_count": null,
      "outputs": []
    },
    {
      "cell_type": "code",
      "source": [
        "class SortKey:\n",
        "  def __int__(self, *attribute_names):\n",
        "    self.attribute_names = attribute_names\n",
        "  def __call__(self, instance):\n",
        "    values = []\n",
        "    for attribute_name in self.attribute_names:\n",
        "      values.append(getattr(instance, attribute_name))\n",
        "    return values"
      ],
      "metadata": {
        "id": "w_CBq5OeGIVU"
      },
      "execution_count": null,
      "outputs": []
    },
    {
      "cell_type": "code",
      "source": [
        "class Person:\n",
        "  def __init__(self, forename, surname, email):\n",
        "    self.forename = forename\n",
        "    self.surname = surname\n",
        "    self.email = email"
      ],
      "metadata": {
        "id": "1qaban6dGw-E"
      },
      "execution_count": null,
      "outputs": []
    },
    {
      "cell_type": "code",
      "source": [
        "people = []\n",
        "p = Person('Petrov', '', '')\n",
        "people.append(p)\n",
        "p = Person('Sidorov', '', '')\n",
        "people.append(p)\n",
        "p = Person(u'Ivanov', '', '')\n",
        "people.append(p)\n",
        "for p in people:\n",
        "  print(p.forename)"
      ],
      "metadata": {
        "colab": {
          "base_uri": "https://localhost:8080/"
        },
        "id": "TnAstFlZHDH4",
        "outputId": "fe110eb3-9f50-45f0-bcb9-cd42502004da"
      },
      "execution_count": null,
      "outputs": [
        {
          "output_type": "stream",
          "name": "stdout",
          "text": [
            "Petrov\n",
            "Sidorov\n",
            "Ivanov\n"
          ]
        }
      ]
    },
    {
      "cell_type": "code",
      "source": [
        "people.sort(key=SortKey(\"forename\"))\n",
        "for p in people:\n",
        "  print(p.forename)"
      ],
      "metadata": {
        "id": "mQW3atvdHr5y"
      },
      "execution_count": null,
      "outputs": []
    },
    {
      "cell_type": "code",
      "source": [
        "class ExternalStorange:\n",
        "  __slots__ = ('attribute_name')\n",
        "  __storage = {}\n",
        "  def __init__(self, attribute_name):\n",
        "    self.attribute_name = attribute_name\n",
        "  def __set__(self, instance, value):\n",
        "    self.__storage[id(instance), self.attribute_name] = value\n",
        "  def __get__(self, instance, owner=None):\n",
        "    if instance is None:\n",
        "      return self\n",
        "    return self.__storage[id(instance), self.attribute_name]"
      ],
      "metadata": {
        "id": "HuZqqNrOIJDZ"
      },
      "execution_count": null,
      "outputs": []
    },
    {
      "cell_type": "code",
      "source": [
        "class Point:\n",
        "  __slots__ = ()\n",
        "  x = ExternalStorange('x')\n",
        "  y = ExternalStorange('y')\n",
        "  def __init__(self, x=0, y=0):\n",
        "    self.x = x\n",
        "    self.y = y"
      ],
      "metadata": {
        "id": "sf053T_FJRnL"
      },
      "execution_count": null,
      "outputs": []
    },
    {
      "cell_type": "code",
      "source": [
        "p1 = Point(1, 2)"
      ],
      "metadata": {
        "id": "W7azzyV8JoBM"
      },
      "execution_count": null,
      "outputs": []
    },
    {
      "cell_type": "code",
      "source": [
        "p2 = Point(3, 4)"
      ],
      "metadata": {
        "id": "KX-ZYRC4JrIs"
      },
      "execution_count": null,
      "outputs": []
    },
    {
      "cell_type": "code",
      "source": [
        "class MySequence:\n",
        "  def __init__(self, start=0, step=1):\n",
        "    self.start = start\n",
        "    self.step = step\n",
        "    self.changed = {}\n",
        "  def __getitem__(self, key):\n",
        "    return self.start + key*self.step\n",
        "  def __setitem__(self, key, value):\n",
        "    self.changed[key] = value"
      ],
      "metadata": {
        "id": "gRJqNOSrJuIo"
      },
      "execution_count": null,
      "outputs": []
    },
    {
      "cell_type": "code",
      "source": [
        "s = MySequence(1, 2)\n",
        "s[0]"
      ],
      "metadata": {
        "colab": {
          "base_uri": "https://localhost:8080/"
        },
        "id": "FoKJOEbYKbt6",
        "outputId": "89fd07c6-578d-49bd-9a49-e3ddd0401f7a"
      },
      "execution_count": null,
      "outputs": [
        {
          "output_type": "execute_result",
          "data": {
            "text/plain": [
              "1"
            ]
          },
          "metadata": {},
          "execution_count": 65
        }
      ]
    },
    {
      "cell_type": "code",
      "source": [
        "s[1]"
      ],
      "metadata": {
        "id": "SK6lJx7SKhXt",
        "outputId": "0bc56783-8a75-44fb-d47b-e950e064a563",
        "colab": {
          "base_uri": "https://localhost:8080/"
        }
      },
      "execution_count": null,
      "outputs": [
        {
          "output_type": "execute_result",
          "data": {
            "text/plain": [
              "3"
            ]
          },
          "metadata": {},
          "execution_count": 67
        }
      ]
    },
    {
      "cell_type": "code",
      "source": [
        "s[100]"
      ],
      "metadata": {
        "id": "pALO05tiKioc",
        "outputId": "849d241c-4945-400d-f890-afbeba821422",
        "colab": {
          "base_uri": "https://localhost:8080/"
        }
      },
      "execution_count": null,
      "outputs": [
        {
          "output_type": "execute_result",
          "data": {
            "text/plain": [
              "201"
            ]
          },
          "metadata": {},
          "execution_count": 68
        }
      ]
    },
    {
      "cell_type": "markdown",
      "source": [
        "# Практические задания:\n",
        "## 1. Создайте класс, который называется Thing, не имеющий содержимого, и выве-дите его на экран. Затем создайте объект example этого класса и также выведите его. Совпадают ли выведенные значения?\n",
        "\n"
      ],
      "metadata": {
        "id": "x-Gv6ipQMEKc"
      }
    },
    {
      "cell_type": "code",
      "source": [
        "# №1\n",
        "class Thing:\n",
        "  pass\n",
        "\n",
        "print(Thing())\n",
        "example = Thing()\n",
        "print(example)"
      ],
      "metadata": {
        "colab": {
          "base_uri": "https://localhost:8080/"
        },
        "id": "sx-r3tKTMczw",
        "outputId": "6adf4442-909c-4eeb-9f27-a79a14b8111b"
      },
      "execution_count": null,
      "outputs": [
        {
          "output_type": "stream",
          "name": "stdout",
          "text": [
            "<__main__.Thing object at 0x7f506b77c6d0>\n",
            "<__main__.Thing object at 0x7f506b687df0>\n"
          ]
        }
      ]
    },
    {
      "cell_type": "markdown",
      "source": [
        "## 2. Создайте новый класс с именем Thing2 и присвойте его атрибуту letters значе-ние 'abc'. Выведите на экран значение атрибута letters.\n"
      ],
      "metadata": {
        "id": "l5llZMY7OxtK"
      }
    },
    {
      "cell_type": "code",
      "source": [
        "# №2\n",
        "class Thing2:\n",
        "  letters = 'abc'\n",
        "\n",
        "print(Thing2.letters)"
      ],
      "metadata": {
        "colab": {
          "base_uri": "https://localhost:8080/"
        },
        "id": "XWaXARH5OCHM",
        "outputId": "837f2cc9-06f6-450e-ef34-0cd9f76f102a"
      },
      "execution_count": null,
      "outputs": [
        {
          "output_type": "stream",
          "name": "stdout",
          "text": [
            "abc\n"
          ]
        }
      ]
    },
    {
      "cell_type": "markdown",
      "source": [
        "\n",
        "## 3. Создайте еще один класс, который, конечно же, называется Thing3. В этот раз присвойте значение 'xyz' атрибуту объекта, который называется letters. Выведите на экран значение атрибута letters. Понадобилось ли вам создавать объект класса, чтобы сделать это?"
      ],
      "metadata": {
        "id": "5P4zDZLGO9qO"
      }
    },
    {
      "cell_type": "code",
      "source": [
        "class Thing3:\n",
        "  letters = 'xyz'\n",
        "\n",
        "print(Thing3.letters)"
      ],
      "metadata": {
        "colab": {
          "base_uri": "https://localhost:8080/"
        },
        "id": "JTL9caD0O-dR",
        "outputId": "b63b758c-9011-4d27-f443-e9f4818bb8f9"
      },
      "execution_count": 2,
      "outputs": [
        {
          "output_type": "stream",
          "name": "stdout",
          "text": [
            "xyz\n"
          ]
        }
      ]
    },
    {
      "cell_type": "code",
      "source": [
        "class Thing3:\n",
        "  def __init__(self):\n",
        "    self.letters = 'xyz'\n",
        "\n",
        "example = Thing3()\n",
        "print(example.letters)"
      ],
      "metadata": {
        "colab": {
          "base_uri": "https://localhost:8080/"
        },
        "id": "sMivWKKBPdyL",
        "outputId": "7265693a-3874-4219-a8fc-9a74fb49758d"
      },
      "execution_count": 3,
      "outputs": [
        {
          "output_type": "stream",
          "name": "stdout",
          "text": [
            "xyz\n"
          ]
        }
      ]
    },
    {
      "cell_type": "markdown",
      "source": [
        "\n",
        "## 4. Создайте класс, который называется Element, имеющий атрибуты объекта name, symbol и number. Создайте объект этого класса со значениями 'Hydrogen', 'H' и 1.\n"
      ],
      "metadata": {
        "id": "1gU99roaPybj"
      }
    },
    {
      "cell_type": "code",
      "source": [
        "class Element:\n",
        "  def __init__(self, name, symbol, number):\n",
        "    self.name = name\n",
        "    self.symbol = symbol\n",
        "    self.number = number\n",
        "\n",
        "element = Element('Hydrogen', 'H', 1)"
      ],
      "metadata": {
        "id": "y-kZMVnMP6HO"
      },
      "execution_count": 11,
      "outputs": []
    },
    {
      "cell_type": "markdown",
      "source": [
        "## 5. Создайте словарь со следующими ключами и значениями: 'name': 'Hydrogen', 'symbol': ''H', 'number': 1. Далее создайте объект с именем hydrogen класса Element с помощью этого словаря."
      ],
      "metadata": {
        "id": "ii_D1v-sqKPF"
      }
    },
    {
      "cell_type": "code",
      "source": [
        "elements_dict ={'name': 'Hydrogen', 'symbol': 'H', 'number': 1}\n",
        "hydrogen = Element(**elements_dict)"
      ],
      "metadata": {
        "id": "KhEnGvS_P5Ub"
      },
      "execution_count": 8,
      "outputs": []
    },
    {
      "cell_type": "markdown",
      "source": [
        "## 6. Для класса Element определите метод с именем dump(), который выводит на экран значения атрибутов объекта (name, symbol и number). Создайте объект hydrogen из этого нового определения и используйте метод dump(), чтобы вывести на экран его атрибуты."
      ],
      "metadata": {
        "id": "ZM9sVDCGrRAx"
      }
    },
    {
      "cell_type": "code",
      "source": [
        "class Element:\n",
        "    def __init__(self, name, symbol, number):\n",
        "        self.name = name\n",
        "        self.symbol = symbol\n",
        "        self.number = number\n",
        "        \n",
        "    def dump(self):\n",
        "        print(f\"Name: {self.name}, Symbol: {self.symbol}, Number: {self.number}\")\n",
        "    \n",
        "elements_dict = {'name': 'Hydrogen', 'symbol': 'H', 'number': 1}\n",
        "hydrogen = Element(**elements_dict)\n",
        "\n",
        "hydrogen.dump()"
      ],
      "metadata": {
        "colab": {
          "base_uri": "https://localhost:8080/"
        },
        "id": "TnMLWTXQrQwY",
        "outputId": "e89cce96-7964-4f7c-f886-38168698fe88"
      },
      "execution_count": 9,
      "outputs": [
        {
          "output_type": "stream",
          "name": "stdout",
          "text": [
            "Name: Hydrogen, Symbol: H, Number: 1\n"
          ]
        }
      ]
    },
    {
      "cell_type": "markdown",
      "source": [
        "## 7. Вызовите функцию print(hydrogen). В определении класса Element измените имя метода dump на ＿str＿, создайте новый объект hydrogen и затем снова вызовите метод print(hydrogen).\n"
      ],
      "metadata": {
        "id": "1eAUKmE4stIQ"
      }
    },
    {
      "cell_type": "code",
      "source": [
        "class Element:\n",
        "    def __init__(self, name, symbol, number): \n",
        "        self.name = name\n",
        "        self.symbol = symbol\n",
        "        self.number = number\n",
        "        \n",
        "    def __str__(self):\n",
        "        return f\"Name: {self.name}, Symbol: {self.symbol}, Number: {self.number}\"\n",
        "\n",
        "element_data = {'name': 'Hydrogen', 'symbol': 'H', 'number': 1}\n",
        "hydrogen = Element(**element_data)\n",
        "\n",
        "print(hydrogen)\n",
        "\n",
        "new_hydrogen = Element('Hydrogen', 'H', 1)\n",
        "\n",
        "print(new_hydrogen) \n"
      ],
      "metadata": {
        "colab": {
          "base_uri": "https://localhost:8080/"
        },
        "id": "_-9_SA2ds1N8",
        "outputId": "9ddfbcc2-e79e-4643-a5a9-c392d7114310"
      },
      "execution_count": 12,
      "outputs": [
        {
          "output_type": "stream",
          "name": "stdout",
          "text": [
            "Name: Hydrogen, Symbol: H, Number: 1\n",
            "Name: Hydrogen, Symbol: H, Number: 1\n"
          ]
        }
      ]
    },
    {
      "cell_type": "markdown",
      "source": [
        "## 8. Модифицируйте класс Element, сделав атрибуты name, symbol и number закрытыми. Определите для каждого атрибута свойство получателя, возвращающее значение соответствующего атрибута.\n"
      ],
      "metadata": {
        "id": "olY4aJXqtPva"
      }
    },
    {
      "cell_type": "code",
      "source": [
        "class Element:\n",
        "    def __init__(self, name, symbol, number): \n",
        "        self._name = name  \n",
        "        self._symbol = symbol \n",
        "        self._number = number \n",
        "        \n",
        "    @property\n",
        "    def name(self):\n",
        "        return self._name\n",
        "    \n",
        "    @property\n",
        "    def symbol(self):\n",
        "        return self._symbol\n",
        "    \n",
        "    @property\n",
        "    def number(self):\n",
        "        return self._number\n",
        "\n",
        "element_data = {'name': 'Hydrogen', 'symbol': 'H', 'number': 1}\n",
        "hydrogen = Element(**element_data)\n",
        "\n",
        "print(hydrogen.name)\n",
        "print(hydrogen.symbol)\n",
        "print(hydrogen.number)\n"
      ],
      "metadata": {
        "colab": {
          "base_uri": "https://localhost:8080/"
        },
        "id": "SFa1i8ELtWfB",
        "outputId": "45a0b070-2c3d-4619-d546-e8bb072c6ded"
      },
      "execution_count": 13,
      "outputs": [
        {
          "output_type": "stream",
          "name": "stdout",
          "text": [
            "Hydrogen\n",
            "H\n",
            "1\n"
          ]
        }
      ]
    },
    {
      "cell_type": "markdown",
      "source": [
        "\n",
        "## 9. Определите три класса: Bear, Rabbit и Octothorpe. Для каждого из них определи-те всего один метод - eats(). Он должен возвращать значения 'berries' (для Bear), 'clover' (для Rabbit) или 'campers' (для Octothorpe). Создайте по одному объекту каждого класса и выведите на экран то, что ест указанное животное.\n"
      ],
      "metadata": {
        "id": "mmCayRnCtzgT"
      }
    },
    {
      "cell_type": "code",
      "source": [
        "class Bear:\n",
        "    def eats(self):\n",
        "        return 'berries'\n",
        "\n",
        "class Rabbit:\n",
        "    def eats(self):\n",
        "        return 'clover'\n",
        "\n",
        "class Octothorpe:\n",
        "    def eats(self):\n",
        "        return 'campers'\n",
        "\n",
        "bear = Bear()\n",
        "rabbit = Rabbit()\n",
        "octothorpe = Octothorpe()\n",
        "\n",
        "print(bear.eats()) \n",
        "print(rabbit.eats()) \n",
        "print(octothorpe.eats())  "
      ],
      "metadata": {
        "colab": {
          "base_uri": "https://localhost:8080/"
        },
        "id": "DJuWMmSduBTX",
        "outputId": "ee05ad6b-1376-4f43-9445-9c47f9591924"
      },
      "execution_count": 14,
      "outputs": [
        {
          "output_type": "stream",
          "name": "stdout",
          "text": [
            "berries\n",
            "clover\n",
            "campers\n"
          ]
        }
      ]
    },
    {
      "cell_type": "markdown",
      "source": [
        "## 10. Определите три класса: Laser, Claw и SmartPhone. Каждый из них имеет только один метод - does(). Он возвращает значения 'disintegrate' (для Laser), 'crush' (для Claw) или 'ring' (для SmartPhone). Далее определите класс Robot, который содержит по одному объекту каждого из этих классов. Определите метод does() для класса Robot, которыйвыводит на экран все, что делают его компоненты."
      ],
      "metadata": {
        "id": "OFIDDSNJuR9y"
      }
    },
    {
      "cell_type": "code",
      "source": [
        "class Laser:\n",
        "    def does(self):\n",
        "        return 'disintegrate'\n",
        "\n",
        "class Claw:\n",
        "    def does(self):\n",
        "        return 'crush'\n",
        "\n",
        "class SmartPhone:\n",
        "    def does(self):\n",
        "        return 'ring'\n",
        "\n",
        "class Robot:\n",
        "    def __init__(self):\n",
        "        self.laser = Laser()\n",
        "        self.claw = Claw()\n",
        "        self.smartphone = SmartPhone()\n",
        "\n",
        "    def does(self):\n",
        "        print(f\"Laser: {self.laser.does()}\") \n",
        "        print(f\"Claw: {self.claw.does()}\")\n",
        "        print(f\"SmartPhone: {self.smartphone.does()}\")\n",
        "\n",
        "robot = Robot()\n",
        "robot.does()  "
      ],
      "metadata": {
        "colab": {
          "base_uri": "https://localhost:8080/"
        },
        "id": "XDXmIDxdvUi8",
        "outputId": "7a523772-7427-44ec-c0a1-19ae66b6da2d"
      },
      "execution_count": 16,
      "outputs": [
        {
          "output_type": "stream",
          "name": "stdout",
          "text": [
            "Laser: disintegrate\n",
            "Claw: crush\n",
            "SmartPhone: ring\n"
          ]
        }
      ]
    }
  ]
}