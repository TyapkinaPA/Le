{
  "nbformat": 4,
  "nbformat_minor": 0,
  "metadata": {
    "colab": {
      "provenance": [],
      "include_colab_link": true
    },
    "kernelspec": {
      "name": "python3",
      "display_name": "Python 3"
    },
    "language_info": {
      "name": "python"
    }
  },
  "cells": [
    {
      "cell_type": "markdown",
      "metadata": {
        "id": "view-in-github",
        "colab_type": "text"
      },
      "source": [
        "<a href=\"https://colab.research.google.com/github/TyapkinaPA/Lections-in-para/blob/main/February_lection1.ipynb\" target=\"_parent\"><img src=\"https://colab.research.google.com/assets/colab-badge.svg\" alt=\"Open In Colab\"/></a>"
      ]
    },
    {
      "cell_type": "code",
      "execution_count": null,
      "metadata": {
        "colab": {
          "base_uri": "https://localhost:8080/"
        },
        "id": "5xjDj_P2O7IA",
        "outputId": "a93f937c-887f-478c-be5a-72277bd082e9"
      },
      "outputs": [
        {
          "output_type": "stream",
          "name": "stdout",
          "text": [
            "15\n",
            "22\n"
          ]
        }
      ],
      "source": [
        "class A:\n",
        "  x = 15\n",
        "  def print_x(self):\n",
        "    print(self.x)\n",
        "\n",
        "  def sum(self, a, b):\n",
        "    return self.x+a+b\n",
        "\n",
        "a = A()         # create instance\n",
        "a.print_x()     # 15\n",
        "b = a.sum(5,2)  # 22\n",
        "print(b)"
      ]
    },
    {
      "cell_type": "code",
      "source": [
        "class A:\n",
        "  def hello():\n",
        "    print('Hello,world!')\n",
        "\n",
        "a = A()\n",
        "#a.hello() # error: self is absent\n",
        "A.hello() # 'Hello, world!'"
      ],
      "metadata": {
        "colab": {
          "base_uri": "https://localhost:8080/"
        },
        "id": "BZM7UqjlY8qg",
        "outputId": "b672ab3c-4e7a-4212-e61f-6c59eb8b9def"
      },
      "execution_count": null,
      "outputs": [
        {
          "output_type": "stream",
          "name": "stdout",
          "text": [
            "Hello,world!\n"
          ]
        }
      ]
    },
    {
      "cell_type": "code",
      "source": [
        "class A:\n",
        "  def __init__(self, x):\n",
        "    self.x = x\n",
        "    print('Hello!')\n",
        "\n",
        "  def __del__(self):\n",
        "    print('Good bye!')\n",
        "\n",
        "a = A()   # error: constructor has argument x\n",
        "a = A(15) # Hello!\n",
        "a.x       # 15\n",
        "del a     # Good bye"
      ],
      "metadata": {
        "id": "ajJj1KhEZihz"
      },
      "execution_count": null,
      "outputs": []
    },
    {
      "cell_type": "code",
      "source": [
        "class A:\n",
        "  def __init__(self):\n",
        "    print('Hello!')\n",
        "\n",
        "  def __del__(self):\n",
        "    print('Good bye!')\n",
        "\n",
        "def create_obj():\n",
        "  a = A()\n",
        "  return a\n",
        "if __name__ == '__main__':\n",
        "  a = create_obj()\n",
        "  print('program end')\n",
        "  exit(0)\n",
        "# Hello! \\n program end \\n Good bye!"
      ],
      "metadata": {
        "colab": {
          "base_uri": "https://localhost:8080/"
        },
        "id": "JkyBlf3racYi",
        "outputId": "23a0ffc2-c054-44f0-9a5f-3be751e455fe"
      },
      "execution_count": null,
      "outputs": [
        {
          "output_type": "stream",
          "name": "stdout",
          "text": [
            "Hello!\n",
            "program end\n"
          ]
        }
      ]
    },
    {
      "cell_type": "code",
      "source": [
        "class A:\n",
        "  def __init__(self, bb):\n",
        "    self.b = bb\n",
        "\n",
        "class B:\n",
        "  def __init__(self):\n",
        "    self.a = A(self)\n",
        "  def __del__(self):\n",
        "    print('Good bye!')\n",
        "def fun():\n",
        "  b = B()\n",
        "  print('fun end')\n",
        "fun()\n",
        "print('Program end')\n",
        "# fun end \\n Program end \\n Good bye"
      ],
      "metadata": {
        "colab": {
          "base_uri": "https://localhost:8080/"
        },
        "id": "mCdmnXBsbkMq",
        "outputId": "274d26f2-e241-4db2-dfd9-434a9b336f4b"
      },
      "execution_count": null,
      "outputs": [
        {
          "output_type": "stream",
          "name": "stdout",
          "text": [
            "fun end\n",
            "Program end\n"
          ]
        }
      ]
    },
    {
      "cell_type": "code",
      "source": [
        "class Bus:\n",
        "  def __init__(self, passengers = []):\n",
        "    self.passengers = passengers\n",
        "\n",
        "  def pick(self, name):\n",
        "    self.passengers.append(name)\n",
        "\n",
        "  def drop(self, name):\n",
        "    self.passengers.remove(name)"
      ],
      "metadata": {
        "id": "DZWB3IT3cb3U"
      },
      "execution_count": null,
      "outputs": []
    },
    {
      "cell_type": "code",
      "source": [
        "bus1 = Bus(['Alice', 'Bill'])\n",
        "bus1.passengers # ['Alice', 'Bill']\n",
        "bus1.pick('Charlie')\n",
        "bus1.drop('Alice')\n",
        "bus1.passengers # ['Bill', 'Charlie']\n",
        "\n",
        "bus2 = Bus()\n",
        "bus2.pick('Carrie')\n",
        "bus2.passengers # ['Carrie']\n",
        "\n",
        "bus3 = Bus()\n",
        "bus3.passengers # ['Carrie']\n",
        "bus2.passengers is bus3.passengers # True\n",
        "bus1.passengers # ['Bill', 'Charlie']"
      ],
      "metadata": {
        "colab": {
          "base_uri": "https://localhost:8080/"
        },
        "id": "d4G_NsSLdGCI",
        "outputId": "11226485-e8d3-4da9-af24-7d6dc3b081b9"
      },
      "execution_count": null,
      "outputs": [
        {
          "output_type": "execute_result",
          "data": {
            "text/plain": [
              "['Bill', 'Charlie']"
            ]
          },
          "metadata": {},
          "execution_count": 3
        }
      ]
    },
    {
      "cell_type": "code",
      "source": [
        "class Bus:\n",
        "  def __init__(self, passengers=None):\n",
        "    if passengers is None:\n",
        "      self.passengers = []\n",
        "    else:\n",
        "      self.passengers = passengers"
      ],
      "metadata": {
        "id": "D3jTG7eJed6G"
      },
      "execution_count": null,
      "outputs": []
    },
    {
      "cell_type": "code",
      "source": [
        "class A:\n",
        "  x = 10\n",
        "  __x = 1\n",
        "  def __init__(self):\n",
        "    self.y = 5\n",
        "    z = 1\n",
        "\n",
        "a = A()\n",
        "print(a.x)    # 10\n",
        "print(a.y)    # 5\n",
        "print(a.z)    # error\n",
        "print(a.__x)  # error: it's private\n",
        "print(A.x)    # 10\n",
        "print(A.y)    # error: it's instance attribute"
      ],
      "metadata": {
        "colab": {
          "base_uri": "https://localhost:8080/",
          "height": 270
        },
        "id": "QIriwjENe62j",
        "outputId": "c8714f9d-79d8-4bdc-a468-1e574033f4d1"
      },
      "execution_count": null,
      "outputs": [
        {
          "output_type": "stream",
          "name": "stdout",
          "text": [
            "10\n",
            "5\n"
          ]
        },
        {
          "output_type": "error",
          "ename": "AttributeError",
          "evalue": "ignored",
          "traceback": [
            "\u001b[0;31m---------------------------------------------------------------------------\u001b[0m",
            "\u001b[0;31mAttributeError\u001b[0m                            Traceback (most recent call last)",
            "\u001b[0;32m<ipython-input-5-f0bd55357857>\u001b[0m in \u001b[0;36m<module>\u001b[0;34m\u001b[0m\n\u001b[1;32m      9\u001b[0m \u001b[0mprint\u001b[0m\u001b[0;34m(\u001b[0m\u001b[0ma\u001b[0m\u001b[0;34m.\u001b[0m\u001b[0mx\u001b[0m\u001b[0;34m)\u001b[0m    \u001b[0;31m# 10\u001b[0m\u001b[0;34m\u001b[0m\u001b[0;34m\u001b[0m\u001b[0m\n\u001b[1;32m     10\u001b[0m \u001b[0mprint\u001b[0m\u001b[0;34m(\u001b[0m\u001b[0ma\u001b[0m\u001b[0;34m.\u001b[0m\u001b[0my\u001b[0m\u001b[0;34m)\u001b[0m    \u001b[0;31m# 5\u001b[0m\u001b[0;34m\u001b[0m\u001b[0;34m\u001b[0m\u001b[0m\n\u001b[0;32m---> 11\u001b[0;31m \u001b[0mprint\u001b[0m\u001b[0;34m(\u001b[0m\u001b[0ma\u001b[0m\u001b[0;34m.\u001b[0m\u001b[0mz\u001b[0m\u001b[0;34m)\u001b[0m    \u001b[0;31m# error\u001b[0m\u001b[0;34m\u001b[0m\u001b[0;34m\u001b[0m\u001b[0m\n\u001b[0m\u001b[1;32m     12\u001b[0m \u001b[0mprint\u001b[0m\u001b[0;34m(\u001b[0m\u001b[0ma\u001b[0m\u001b[0;34m.\u001b[0m\u001b[0m__x\u001b[0m\u001b[0;34m)\u001b[0m  \u001b[0;31m# error: it's private\u001b[0m\u001b[0;34m\u001b[0m\u001b[0;34m\u001b[0m\u001b[0m\n\u001b[1;32m     13\u001b[0m \u001b[0mprint\u001b[0m\u001b[0;34m(\u001b[0m\u001b[0mA\u001b[0m\u001b[0;34m.\u001b[0m\u001b[0mx\u001b[0m\u001b[0;34m)\u001b[0m    \u001b[0;31m# 10\u001b[0m\u001b[0;34m\u001b[0m\u001b[0;34m\u001b[0m\u001b[0m\n",
            "\u001b[0;31mAttributeError\u001b[0m: 'A' object has no attribute 'z'"
          ]
        }
      ]
    },
    {
      "cell_type": "code",
      "source": [
        "class A:\n",
        "  x = 10\n",
        "\n",
        "a = A()\n",
        "b = A()\n",
        "a.x\n",
        "b.x\n",
        "A.x\n",
        "\n",
        "a.x = 4\n",
        "a.x\n",
        "b.x\n",
        "A.x"
      ],
      "metadata": {
        "colab": {
          "base_uri": "https://localhost:8080/"
        },
        "id": "LrIRWcc0f9mf",
        "outputId": "9e27dcac-2c6c-435f-d762-928a997702cb"
      },
      "execution_count": null,
      "outputs": [
        {
          "output_type": "execute_result",
          "data": {
            "text/plain": [
              "10"
            ]
          },
          "metadata": {},
          "execution_count": 6
        }
      ]
    },
    {
      "cell_type": "code",
      "source": [
        "try:\n",
        "    first = int(input())\n",
        "    second = int(input())\n",
        "\n",
        "except TypeError:\n",
        "    print(\"Введите целые числа!\")\n",
        "except ValueError:\n",
        "    print(\"Введите числа отличные от нуля!\")\n",
        "\n",
        "\n",
        "def gcd(first, second):  # Нахожу по алгоритму Евклида\n",
        "    \"\"\"Вернуть НОД для целых чисел 'first' и 'second'.\n",
        "\n",
        "    Пример:\n",
        "        - gcd(54, 24) == 6;\n",
        "        - gcd(-54, 24) == 6.\n",
        "\n",
        "    Исключения:\n",
        "        - TypeError: 'first' или 'second' - любой тип кроме int;\n",
        "        - ValueError: 'first' или second равны 0.\n",
        "    \"\"\"\n",
        "\n",
        "    while first != 0 and second != 0:\n",
        "        if first > second:\n",
        "            first = first % second\n",
        "        else:\n",
        "            second = second % first\n",
        "\n",
        "    nod = first + second\n",
        "    return nod\n",
        "\n",
        "\n",
        "print(gcd(first, second))\n",
        "\n",
        "\n",
        "def lcm(first, second):\n",
        "    \"\"\"Вернуть НОК для чисел 'first' и 'second'.\n",
        "\n",
        "    Пример:\n",
        "        - lcm(4, 6) == 12;\n",
        "        - lcm(-4, 6) == 12.\n",
        "\n",
        "    Исключения:\n",
        "        - TypeError: 'first' или 'second' - любой тип кроме int;\n",
        "        - ValueError: 'first' или second равны 0.\n",
        "\n",
        "    \"\"\"\n",
        "    if first > second:\n",
        "        greater = first\n",
        "    else:\n",
        "        greater = second\n",
        "    while (True):\n",
        "        if ((greater % first == 0) and (greater % second == 0)):\n",
        "            lcm1 = greater\n",
        "            break\n",
        "        greater += 1\n",
        "    return lcm1\n",
        "\n",
        "\n",
        "print(lcm(first, second))\n",
        "\n",
        "\n",
        "try:\n",
        "    number = int(input())\n",
        "except TypeError:\n",
        "    print(\"Введите целое число!\")\n",
        "except ValueError:\n",
        "    print(\"Не натуральное число!\")\n",
        "\n",
        "\n",
        "def is_prime(number):\n",
        "    \"\"\"Вернуть True, если 'number' - простое число, иначе False.\n",
        "\n",
        "    Пример: is_prime(7) == True.\n",
        "\n",
        "    Исключения:\n",
        "        - TypeError: 'number' - любой тип кроме int;\n",
        "        - ValueError: 'number' - не натуральное число.\n",
        "    \"\"\"\n",
        "    k = 0\n",
        "    for i in range(2, number // 2 + 1):\n",
        "        if (number % i == 0):\n",
        "            k = k + 1\n",
        "    if (k <= 0):\n",
        "        return True\n",
        "    else:\n",
        "        return False\n",
        "\n",
        "\n",
        "print(is_prime(number))\n",
        "\n",
        "\n",
        "def inverse(number):\n",
        "    \"\"\"Вернуть число, обратное 'number' (1 / number).\n",
        "\n",
        "    Пример: inverse(2) == 0.5.\n",
        "\n",
        "    Исключения:\n",
        "        - TpeError: 'number' - любой тиyп кроме int, float;\n",
        "        - ZeroDivisionError: 'number' - 0.\n",
        "    \"\"\"\n",
        "    nm = 1 / number\n",
        "    return nm\n",
        "\n",
        "\n",
        "print(inverse(number))\n",
        "\n",
        "\n",
        "try:\n",
        "    power = int(input())\n",
        "\n",
        "except TypeError:\n",
        "    print(\"Введите число!\")\n",
        "except ValueError:\n",
        "    print(\"Введите число, отличное от нуля!\")\n",
        "except ValueError:\n",
        "    print(\"Значение степени меньше единицы!\")\n",
        "\n",
        "\n",
        "def root(number, power):\n",
        "    \"\"\"Вернуть корень 'power'-степени из 'number'.\n",
        "\n",
        "    Пример: root(9) == 3.0.\n",
        "\n",
        "    Исключения:\n",
        "        - TypeError: 'number' - любой тип кроме int, float;\n",
        "        - TypeError: 'power' - любой тип кроме int, float;\n",
        "        - ValueError: 'power' - меньше единицы.\n",
        "    \"\"\"\n",
        "    res = number ** (1 / power)\n",
        "    return res\n",
        "\n",
        "\n",
        "print(root(number, power))"
      ],
      "metadata": {
        "id": "7pazpUhWgWv0",
        "outputId": "131fb3df-5f20-42c0-b031-1c36bc4fcc90",
        "colab": {
          "base_uri": "https://localhost:8080/"
        }
      },
      "execution_count": null,
      "outputs": [
        {
          "output_type": "stream",
          "name": "stdout",
          "text": [
            "1\n",
            "2\n",
            "1\n",
            "2\n",
            "2\n",
            "True\n",
            "0.5\n",
            "2\n",
            "1.4142135623730951\n"
          ]
        }
      ]
    }
  ]
}