{
  "nbformat": 4,
  "nbformat_minor": 0,
  "metadata": {
    "colab": {
      "provenance": [],
      "authorship_tag": "ABX9TyM+CelpJDgoQn+n09cdO5Bx",
      "include_colab_link": true
    },
    "kernelspec": {
      "name": "python3",
      "display_name": "Python 3"
    },
    "language_info": {
      "name": "python"
    }
  },
  "cells": [
    {
      "cell_type": "markdown",
      "metadata": {
        "id": "view-in-github",
        "colab_type": "text"
      },
      "source": [
        "<a href=\"https://colab.research.google.com/github/TyapkinaPA/Lections-in-para/blob/main/May_lection7.ipynb\" target=\"_parent\"><img src=\"https://colab.research.google.com/assets/colab-badge.svg\" alt=\"Open In Colab\"/></a>"
      ]
    },
    {
      "cell_type": "markdown",
      "source": [
        "# Начало работы с PyQt\n",
        "## Цели\n",
        "* познакомиться с набором инструментов PyQt для создания пользовательских интерфейсов\n",
        "* Настройки Python 3  и загрузка последней версии PyQt6\n",
        "* Рассмотренные  основных концепций создания удобного для пользователя интерфейсов\n",
        "* Создание своего первого приложения с помощью PyQt\n",
        "## Инструментарий PyQt - это набор привязок Python для кроссплатформенного инструментария виджетов Qt и среды приложений\n",
        "## Qt используется для разработки пользовательских интерфейсов и других приложений. \n",
        "## PyQt сочетает в себе все преимущества кросс-платформенного иструментария виджетов Qt C++ с Python, мощным и простым и кросс-платформеным интерпретируемым языком\n",
        "## Qt - фреймворк для разработки кроссплатформенного программного обеспечения на языке программирования\n",
        "## Python - PyQt, PySider\n",
        "## Qt для Python предлагает официальные привязки Python для Qt состоит из двух основных компонентов:\n",
        "* PySider, чтобы вы могли использовать API Qt6 в своих приложениях Python\n",
        "* Shiboken6, инструмент генератора привязок, который можно использовать для преобразования проектов С++ в проекты Python, или модуль Python с некоторыми службными функциями\n",
        "##  Модуль  Qt Widgets представляет набор элементов пользовательского интерфейса для создания классических пользовательских интерфейсов в стиле рабочего стола\n",
        "## Widgets - основные элементы для создания пользовательских интерфейсов в Qt\n",
        "## Widgets могут отображать данные и информацию о состоянии, получать вводимые пользовательские данные предоставлять контейнер для других виджетов, которые слдует скруппировать вместе\n",
        "## Widget, который не встроен в родительский виджет, называется окном\n",
        "\n",
        "# Концепции создания хорошего дизайна интерфейса:\n",
        "* 1. ясность\n",
        "* 2. краткость\n",
        "* 3. согласованность\n",
        "* 4. эффективность\n",
        "* 5. знакомство\n",
        "* 6. отзывчивость\n"
      ],
      "metadata": {
        "id": "1rGPky150a42"
      }
    },
    {
      "cell_type": "code",
      "execution_count": null,
      "metadata": {
        "id": "g1PZvIlbzYYx",
        "colab": {
          "base_uri": "https://localhost:8080/",
          "height": 374
        },
        "outputId": "4af8c527-7631-42fd-c925-5b1004921e21"
      },
      "outputs": [
        {
          "output_type": "error",
          "ename": "ModuleNotFoundError",
          "evalue": "ignored",
          "traceback": [
            "\u001b[0;31m---------------------------------------------------------------------------\u001b[0m",
            "\u001b[0;31mModuleNotFoundError\u001b[0m                       Traceback (most recent call last)",
            "\u001b[0;32m<ipython-input-4-5965ef12c243>\u001b[0m in \u001b[0;36m<cell line: 3>\u001b[0;34m()\u001b[0m\n\u001b[1;32m      1\u001b[0m \u001b[0;31m# Import necessary modules\u001b[0m\u001b[0;34m\u001b[0m\u001b[0;34m\u001b[0m\u001b[0m\n\u001b[1;32m      2\u001b[0m \u001b[0;32mimport\u001b[0m \u001b[0msys\u001b[0m\u001b[0;34m\u001b[0m\u001b[0;34m\u001b[0m\u001b[0m\n\u001b[0;32m----> 3\u001b[0;31m \u001b[0;32mfrom\u001b[0m \u001b[0mPyQt6\u001b[0m\u001b[0;34m.\u001b[0m\u001b[0mQtWidgets\u001b[0m \u001b[0;32mimport\u001b[0m \u001b[0mQApplication\u001b[0m\u001b[0;34m,\u001b[0m \u001b[0mQWidget\u001b[0m\u001b[0;34m\u001b[0m\u001b[0;34m\u001b[0m\u001b[0m\n\u001b[0m\u001b[1;32m      4\u001b[0m \u001b[0;34m\u001b[0m\u001b[0m\n\u001b[1;32m      5\u001b[0m \u001b[0;32mclass\u001b[0m \u001b[0mEmptyWindow\u001b[0m\u001b[0;34m(\u001b[0m\u001b[0mQWidget\u001b[0m\u001b[0;34m)\u001b[0m\u001b[0;34m:\u001b[0m\u001b[0;34m\u001b[0m\u001b[0;34m\u001b[0m\u001b[0m\n",
            "\u001b[0;31mModuleNotFoundError\u001b[0m: No module named 'PyQt6'",
            "",
            "\u001b[0;31m---------------------------------------------------------------------------\u001b[0;32m\nNOTE: If your import is failing due to a missing package, you can\nmanually install dependencies using either !pip or !apt.\n\nTo view examples of installing some common dependencies, click the\n\"Open Examples\" button below.\n\u001b[0;31m---------------------------------------------------------------------------\u001b[0m\n"
          ],
          "errorDetails": {
            "actions": [
              {
                "action": "open_url",
                "actionText": "Open Examples",
                "url": "/notebooks/snippets/importing_libraries.ipynb"
              }
            ]
          }
        }
      ],
      "source": [
        "# Import necessary modules\n",
        "import sys \n",
        "from PyQt6.QtWidgets import QApplication, QWidget\n",
        "\n",
        "class EmptyWindow(QWidget):\n",
        "\n",
        "    def __init__(self):\n",
        "        \"\"\" Constructor for Empty Window Class \"\"\"\n",
        "        super().__init__() \n",
        "        self.initializeUI()\n",
        "\n",
        "    def initializeUI(self):\n",
        "        \"\"\"Set up the application's GUI.\"\"\"\n",
        "        self.setGeometry(200, 100, 400, 300)\n",
        "        self.setWindowTitle(\"Empty Window in PyQt\")\n",
        "        self.show()\n",
        "\n",
        "# Run the program\n",
        "if __name__ == '__main__':\n",
        "    app = QApplication(sys.argv)\n",
        "    window = EmptyWindow()\n",
        "    sys.exit(app.exec())"
      ]
    },
    {
      "cell_type": "code",
      "source": [
        "#B 1. ImportВ necessaryВ modules \n",
        "import sys #В useВ sysВ toВ acceptВ commandВ lineВ arguments\n",
        "from PyQt6.QtWidgets import QApplication, QWidget\n",
        "\n",
        "app = QApplication(sys.argv) # 2. Create QApplication object\n",
        "window = QWidget() # 3. Create window from QWidget object\n",
        "window.show() # 4. Call show to display GUI window\n",
        "# 5. Start the event loop. Use sys.exit to close the program\n",
        "sys.exit(app.exec())"
      ],
      "metadata": {
        "id": "t9kbOwpRBu1Z"
      },
      "execution_count": null,
      "outputs": []
    }
  ]
}